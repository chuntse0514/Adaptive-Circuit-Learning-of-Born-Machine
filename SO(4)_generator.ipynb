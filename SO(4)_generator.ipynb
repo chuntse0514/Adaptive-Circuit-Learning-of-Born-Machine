{
 "cells": [
  {
   "cell_type": "code",
   "execution_count": 1,
   "metadata": {},
   "outputs": [
    {
     "name": "stdout",
     "output_type": "stream",
     "text": [
      "Transformed operator Q^† * sigma_1 * Q:\n",
      "σ_z⊗σ_y: -1.0000+0.0000j\n",
      "\n",
      "\n",
      "Transformed operator Q^† * sigma_2 * Q:\n",
      "σ_y⊗I: -1.0000+0.0000j\n",
      "\n",
      "\n",
      "Transformed operator Q^† * sigma_3 * Q:\n",
      "σ_x⊗σ_y: -1.0000+0.0000j\n",
      "\n",
      "\n",
      "Transformed operator Q^† * sigma_4 * Q:\n",
      "I⊗σ_y: -1.0000+0.0000j\n",
      "\n",
      "\n",
      "Transformed operator Q^† * sigma_5 * Q:\n",
      "σ_y⊗σ_z: 1.0000+0.0000j\n",
      "\n",
      "\n",
      "Transformed operator Q^† * sigma_6 * Q:\n",
      "σ_y⊗σ_x: -1.0000+0.0000j\n",
      "\n",
      "\n"
     ]
    }
   ],
   "source": [
    "import numpy as np\n",
    "from numpy import kron\n",
    "\n",
    "# Define Pauli matrices and identity matrix\n",
    "I = np.array([[1, 0], [0, 1]])\n",
    "sigma_x = np.array([[0, 1], [1, 0]])\n",
    "sigma_y = np.array([[0, -1j], [1j, 0]])\n",
    "sigma_z = np.array([[1, 0], [0, -1]])\n",
    "\n",
    "# Define Q matrix and its conjugate transpose Q_dagger\n",
    "Q = (1/np.sqrt(2)) * np.array([\n",
    "    [1, 0, 0, 1j],\n",
    "    [0, 1j, 1, 0],\n",
    "    [0, 1j, -1, 0],\n",
    "    [1, 0, 0, -1j]\n",
    "])\n",
    "Q_dagger = np.conjugate(Q.T)\n",
    "\n",
    "# Define the Pauli operators for two qubits\n",
    "pauli_operators = [\n",
    "    kron(sigma_x, I), kron(sigma_y, I), kron(sigma_z, I),\n",
    "    kron(I, sigma_x), kron(I, sigma_y), kron(I, sigma_z)\n",
    "]\n",
    "\n",
    "# Define basis elements for decomposition\n",
    "pauli_basis = [\n",
    "    kron(I, I), kron(I, sigma_x), kron(I, sigma_y), kron(I, sigma_z),\n",
    "    kron(sigma_x, I), kron(sigma_x, sigma_x), kron(sigma_x, sigma_y), kron(sigma_x, sigma_z),\n",
    "    kron(sigma_y, I), kron(sigma_y, sigma_x), kron(sigma_y, sigma_y), kron(sigma_y, sigma_z),\n",
    "    kron(sigma_z, I), kron(sigma_z, sigma_x), kron(sigma_z, sigma_y), kron(sigma_z, sigma_z)\n",
    "]\n",
    "\n",
    "# Function to decompose a matrix into the Pauli basis\n",
    "def decompose_into_pauli(matrix):\n",
    "    coefficients = [np.trace(matrix @ basis_element.conj().T) / 4 for basis_element in pauli_basis]\n",
    "    return coefficients\n",
    "\n",
    "# Apply Q^\\dagger * sigma * Q and decompose\n",
    "for i, sigma in enumerate(pauli_operators):\n",
    "    transformed_sigma = Q_dagger @ sigma @ Q\n",
    "    coefficients = decompose_into_pauli(transformed_sigma)\n",
    "    print(f\"Transformed operator Q^† * sigma_{i+1} * Q:\")\n",
    "    for coeff, label in zip(coefficients, [\n",
    "        \"I⊗I\", \"I⊗σ_x\", \"I⊗σ_y\", \"I⊗σ_z\",\n",
    "        \"σ_x⊗I\", \"σ_x⊗σ_x\", \"σ_x⊗σ_y\", \"σ_x⊗σ_z\",\n",
    "        \"σ_y⊗I\", \"σ_y⊗σ_x\", \"σ_y⊗σ_y\", \"σ_y⊗σ_z\",\n",
    "        \"σ_z⊗I\", \"σ_z⊗σ_x\", \"σ_z⊗σ_y\", \"σ_z⊗σ_z\"\n",
    "    ]):\n",
    "        if np.abs(coeff) > 1e-10:  # To filter out negligible coefficients\n",
    "            print(f\"{label}: {coeff:.4f}\")\n",
    "    print(\"\\n\")\n"
   ]
  },
  {
   "cell_type": "code",
   "execution_count": null,
   "metadata": {},
   "outputs": [],
   "source": []
  }
 ],
 "metadata": {
  "kernelspec": {
   "display_name": "pennylane-env",
   "language": "python",
   "name": "python3"
  },
  "language_info": {
   "codemirror_mode": {
    "name": "ipython",
    "version": 3
   },
   "file_extension": ".py",
   "mimetype": "text/x-python",
   "name": "python",
   "nbconvert_exporter": "python",
   "pygments_lexer": "ipython3",
   "version": "3.10.12"
  }
 },
 "nbformat": 4,
 "nbformat_minor": 2
}
